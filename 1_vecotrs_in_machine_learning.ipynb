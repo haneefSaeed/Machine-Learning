{
  "nbformat": 4,
  "nbformat_minor": 0,
  "metadata": {
    "colab": {
      "provenance": [],
      "authorship_tag": "ABX9TyMbdlkokxa13mFafyeJhMoE",
      "include_colab_link": true
    },
    "kernelspec": {
      "name": "python3",
      "display_name": "Python 3"
    },
    "language_info": {
      "name": "python"
    }
  },
  "cells": [
    {
      "cell_type": "markdown",
      "metadata": {
        "id": "view-in-github",
        "colab_type": "text"
      },
      "source": [
        "<a href=\"https://colab.research.google.com/github/haneefSaeed/Machine-Learning/blob/master/1_vecotrs_in_machine_learning.ipynb\" target=\"_parent\"><img src=\"https://colab.research.google.com/assets/colab-badge.svg\" alt=\"Open In Colab\"/></a>"
      ]
    },
    {
      "cell_type": "markdown",
      "source": [
        "**MATHEMATICS** VECTORS"
      ],
      "metadata": {
        "id": "6AHsRDVI56wC"
      }
    },
    {
      "cell_type": "code",
      "execution_count": 2,
      "metadata": {
        "id": "X5CVTHL65wxm"
      },
      "outputs": [],
      "source": [
        "import numpy as np"
      ]
    },
    {
      "cell_type": "code",
      "source": [
        "## defining a vector\n",
        "v1 = np.array([1,-1, 2])\n",
        "v2 = np.array([2, 5, 2])"
      ],
      "metadata": {
        "id": "tcVaWUen6JYr"
      },
      "execution_count": 3,
      "outputs": []
    },
    {
      "cell_type": "markdown",
      "source": [
        "Vector Basic Operations"
      ],
      "metadata": {
        "id": "PYxm2H_B6iFK"
      }
    },
    {
      "cell_type": "code",
      "source": [
        "## addition\n",
        "print(v1+v2)\n",
        "\n",
        "## subtraction\n",
        "print(v1-v2)\n",
        "\n",
        "## scalar Multiplication\n",
        "print(3*v1)"
      ],
      "metadata": {
        "colab": {
          "base_uri": "https://localhost:8080/"
        },
        "id": "0AYCtSyT6fIR",
        "outputId": "74dccf8f-aac0-436a-f35b-a8a04bfeadab"
      },
      "execution_count": 7,
      "outputs": [
        {
          "output_type": "stream",
          "name": "stdout",
          "text": [
            "[3 4 4]\n",
            "[-1 -6  0]\n",
            "[ 3 -3  6]\n"
          ]
        }
      ]
    },
    {
      "cell_type": "markdown",
      "source": [
        "Numpy vector Operations"
      ],
      "metadata": {
        "id": "tWHwifU_68NJ"
      }
    },
    {
      "cell_type": "code",
      "source": [
        "## Langth = |v1| = sqrt(x1 + x2 + x3)\n",
        "print (np.linalg.norm(v1))"
      ],
      "metadata": {
        "colab": {
          "base_uri": "https://localhost:8080/"
        },
        "id": "bMm7VMWf67gH",
        "outputId": "16336b4e-63f7-44de-f873-b718d38fcad9"
      },
      "execution_count": 9,
      "outputs": [
        {
          "output_type": "stream",
          "name": "stdout",
          "text": [
            "2.449489742783178\n"
          ]
        }
      ]
    },
    {
      "cell_type": "code",
      "source": [
        "## Dot product\n",
        "print (np.dot(v1, v2))"
      ],
      "metadata": {
        "colab": {
          "base_uri": "https://localhost:8080/"
        },
        "id": "6cF9AbB17dhs",
        "outputId": "33008e43-c4b6-490f-ded1-dbc4edb2f259"
      },
      "execution_count": 10,
      "outputs": [
        {
          "output_type": "stream",
          "name": "stdout",
          "text": [
            "1\n"
          ]
        }
      ]
    }
  ]
}